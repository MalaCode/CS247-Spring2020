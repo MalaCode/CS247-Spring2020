{
 "cells": [
  {
   "cell_type": "code",
   "execution_count": 1,
   "metadata": {
    "scrolled": true
   },
   "outputs": [
    {
     "data": {
      "text/plain": [
       "['coordinates',\n",
       " 'created_at',\n",
       " 'hashtags',\n",
       " 'media',\n",
       " 'urls',\n",
       " 'favorite_count',\n",
       " 'id',\n",
       " 'in_reply_to_screen_name',\n",
       " 'in_reply_to_status_id',\n",
       " 'in_reply_to_user_id',\n",
       " 'lang',\n",
       " 'place',\n",
       " 'possibly_sensitive',\n",
       " 'retweet_count',\n",
       " 'reweet_id',\n",
       " 'retweet_screen_name',\n",
       " 'source',\n",
       " 'text',\n",
       " 'tweet_url',\n",
       " 'user_created_at',\n",
       " 'user_screen_name',\n",
       " 'user_default_profile_image',\n",
       " 'user_description',\n",
       " 'user_favourites_count',\n",
       " 'user_followers_count',\n",
       " 'user_friends_count',\n",
       " 'user_listed_count',\n",
       " 'user_location',\n",
       " 'user_name',\n",
       " 'user_screen_name.1',\n",
       " 'user_statuses_count',\n",
       " 'user_time_zone',\n",
       " 'user_urls',\n",
       " 'user_verified']"
      ]
     },
     "execution_count": 1,
     "metadata": {},
     "output_type": "execute_result"
    }
   ],
   "source": [
    "import pandas as pd\n",
    "import numpy as np\n",
    "import re\n",
    "import seaborn as sns\n",
    "import matplotlib.pyplot as plt\n",
    "from sklearn.naive_bayes import MultinomialNB\n",
    "from sklearn.model_selection import train_test_split\n",
    "from sklearn.feature_extraction.text import CountVectorizer, TfidfVectorizer\n",
    "from sklearn.preprocessing import LabelEncoder\n",
    "from sklearn.linear_model import LogisticRegression\n",
    "from sklearn.ensemble import RandomForestClassifier\n",
    "from sklearn.neighbors import KNeighborsClassifier\n",
    "from sklearn.ensemble import GradientBoostingClassifier\n",
    "from sklearn.svm import SVC\n",
    "from sklearn.neural_network import MLPClassifier\n",
    "from sklearn.linear_model import SGDClassifier\n",
    "from sklearn.svm import LinearSVC\n",
    "from nltk.tokenize import TweetTokenizer\n",
    "from sklearn.pipeline import Pipeline, FeatureUnion\n",
    "from sklearn.decomposition import TruncatedSVD\n",
    "\n",
    "data = pd.read_csv(\"sample_data_tweeter.csv\")\n",
    "list(data.columns.values)"
   ]
  },
  {
   "cell_type": "code",
   "execution_count": 2,
   "metadata": {
    "scrolled": true
   },
   "outputs": [
    {
     "data": {
      "text/html": [
       "<div>\n",
       "<style scoped>\n",
       "    .dataframe tbody tr th:only-of-type {\n",
       "        vertical-align: middle;\n",
       "    }\n",
       "\n",
       "    .dataframe tbody tr th {\n",
       "        vertical-align: top;\n",
       "    }\n",
       "\n",
       "    .dataframe thead th {\n",
       "        text-align: right;\n",
       "    }\n",
       "</style>\n",
       "<table border=\"1\" class=\"dataframe\">\n",
       "  <thead>\n",
       "    <tr style=\"text-align: right;\">\n",
       "      <th></th>\n",
       "      <th>coordinates</th>\n",
       "      <th>created_at</th>\n",
       "      <th>hashtags</th>\n",
       "      <th>media</th>\n",
       "      <th>urls</th>\n",
       "      <th>favorite_count</th>\n",
       "      <th>id</th>\n",
       "      <th>in_reply_to_screen_name</th>\n",
       "      <th>in_reply_to_status_id</th>\n",
       "      <th>in_reply_to_user_id</th>\n",
       "      <th>...</th>\n",
       "      <th>user_followers_count</th>\n",
       "      <th>user_friends_count</th>\n",
       "      <th>user_listed_count</th>\n",
       "      <th>user_location</th>\n",
       "      <th>user_name</th>\n",
       "      <th>user_screen_name.1</th>\n",
       "      <th>user_statuses_count</th>\n",
       "      <th>user_time_zone</th>\n",
       "      <th>user_urls</th>\n",
       "      <th>user_verified</th>\n",
       "    </tr>\n",
       "  </thead>\n",
       "  <tbody>\n",
       "    <tr>\n",
       "      <th>1</th>\n",
       "      <td>NaN</td>\n",
       "      <td>Wed Apr 01 00:08:49 +0000 2020</td>\n",
       "      <td>Gravitas</td>\n",
       "      <td>NaN</td>\n",
       "      <td>NaN</td>\n",
       "      <td>0</td>\n",
       "      <td>1245141030132826112</td>\n",
       "      <td>NaN</td>\n",
       "      <td>NaN</td>\n",
       "      <td>NaN</td>\n",
       "      <td>...</td>\n",
       "      <td>67</td>\n",
       "      <td>377</td>\n",
       "      <td>1</td>\n",
       "      <td>Dharwad, India</td>\n",
       "      <td>avinash</td>\n",
       "      <td>avinashbetdur</td>\n",
       "      <td>2389</td>\n",
       "      <td>NaN</td>\n",
       "      <td>NaN</td>\n",
       "      <td>False</td>\n",
       "    </tr>\n",
       "    <tr>\n",
       "      <th>2</th>\n",
       "      <td>NaN</td>\n",
       "      <td>Wed Apr 01 00:08:48 +0000 2020</td>\n",
       "      <td>NaN</td>\n",
       "      <td>NaN</td>\n",
       "      <td>https://dailycaller.com/2020/03/31/world-healt...</td>\n",
       "      <td>0</td>\n",
       "      <td>1245141025439354880</td>\n",
       "      <td>NaN</td>\n",
       "      <td>NaN</td>\n",
       "      <td>NaN</td>\n",
       "      <td>...</td>\n",
       "      <td>14</td>\n",
       "      <td>150</td>\n",
       "      <td>0</td>\n",
       "      <td>Inland NW</td>\n",
       "      <td>Ron Bleam</td>\n",
       "      <td>RonaldBleam</td>\n",
       "      <td>8135</td>\n",
       "      <td>NaN</td>\n",
       "      <td>NaN</td>\n",
       "      <td>False</td>\n",
       "    </tr>\n",
       "    <tr>\n",
       "      <th>3</th>\n",
       "      <td>NaN</td>\n",
       "      <td>Wed Apr 01 00:08:49 +0000 2020</td>\n",
       "      <td>lockdown</td>\n",
       "      <td>NaN</td>\n",
       "      <td>NaN</td>\n",
       "      <td>0</td>\n",
       "      <td>1245141029784780802</td>\n",
       "      <td>NaN</td>\n",
       "      <td>NaN</td>\n",
       "      <td>NaN</td>\n",
       "      <td>...</td>\n",
       "      <td>193</td>\n",
       "      <td>432</td>\n",
       "      <td>0</td>\n",
       "      <td>Kano</td>\n",
       "      <td>fLufferNutteR😘🤩</td>\n",
       "      <td>Maryermu</td>\n",
       "      <td>582</td>\n",
       "      <td>NaN</td>\n",
       "      <td>NaN</td>\n",
       "      <td>False</td>\n",
       "    </tr>\n",
       "    <tr>\n",
       "      <th>4</th>\n",
       "      <td>NaN</td>\n",
       "      <td>Wed Apr 01 00:08:49 +0000 2020</td>\n",
       "      <td>NaN</td>\n",
       "      <td>NaN</td>\n",
       "      <td>https://trib.al/28Et2dM</td>\n",
       "      <td>0</td>\n",
       "      <td>1245141030522896384</td>\n",
       "      <td>NaN</td>\n",
       "      <td>NaN</td>\n",
       "      <td>NaN</td>\n",
       "      <td>...</td>\n",
       "      <td>1396</td>\n",
       "      <td>1288</td>\n",
       "      <td>1</td>\n",
       "      <td>NaN</td>\n",
       "      <td>HK lover</td>\n",
       "      <td>Hongkon27195888</td>\n",
       "      <td>17238</td>\n",
       "      <td>NaN</td>\n",
       "      <td>NaN</td>\n",
       "      <td>False</td>\n",
       "    </tr>\n",
       "    <tr>\n",
       "      <th>5</th>\n",
       "      <td>NaN</td>\n",
       "      <td>Wed Apr 01 00:08:49 +0000 2020</td>\n",
       "      <td>NaN</td>\n",
       "      <td>NaN</td>\n",
       "      <td>NaN</td>\n",
       "      <td>0</td>\n",
       "      <td>1245141029650452481</td>\n",
       "      <td>NaN</td>\n",
       "      <td>NaN</td>\n",
       "      <td>NaN</td>\n",
       "      <td>...</td>\n",
       "      <td>247</td>\n",
       "      <td>454</td>\n",
       "      <td>10</td>\n",
       "      <td>☀Kingston ✈ATL-Twitterverse</td>\n",
       "      <td>D_Anne</td>\n",
       "      <td>Giselle_JA</td>\n",
       "      <td>22175</td>\n",
       "      <td>NaN</td>\n",
       "      <td>NaN</td>\n",
       "      <td>False</td>\n",
       "    </tr>\n",
       "    <tr>\n",
       "      <th>...</th>\n",
       "      <td>...</td>\n",
       "      <td>...</td>\n",
       "      <td>...</td>\n",
       "      <td>...</td>\n",
       "      <td>...</td>\n",
       "      <td>...</td>\n",
       "      <td>...</td>\n",
       "      <td>...</td>\n",
       "      <td>...</td>\n",
       "      <td>...</td>\n",
       "      <td>...</td>\n",
       "      <td>...</td>\n",
       "      <td>...</td>\n",
       "      <td>...</td>\n",
       "      <td>...</td>\n",
       "      <td>...</td>\n",
       "      <td>...</td>\n",
       "      <td>...</td>\n",
       "      <td>...</td>\n",
       "      <td>...</td>\n",
       "      <td>...</td>\n",
       "    </tr>\n",
       "    <tr>\n",
       "      <th>41855</th>\n",
       "      <td>NaN</td>\n",
       "      <td>Wed Apr 01 00:58:02 +0000 2020</td>\n",
       "      <td>NaN</td>\n",
       "      <td>NaN</td>\n",
       "      <td>NaN</td>\n",
       "      <td>0</td>\n",
       "      <td>1245153415346323456</td>\n",
       "      <td>NaN</td>\n",
       "      <td>NaN</td>\n",
       "      <td>NaN</td>\n",
       "      <td>...</td>\n",
       "      <td>282</td>\n",
       "      <td>437</td>\n",
       "      <td>0</td>\n",
       "      <td>NaN</td>\n",
       "      <td>Shawn-C</td>\n",
       "      <td>SChristie1965</td>\n",
       "      <td>7841</td>\n",
       "      <td>NaN</td>\n",
       "      <td>NaN</td>\n",
       "      <td>False</td>\n",
       "    </tr>\n",
       "    <tr>\n",
       "      <th>41857</th>\n",
       "      <td>NaN</td>\n",
       "      <td>Wed Apr 01 00:58:02 +0000 2020</td>\n",
       "      <td>NaN</td>\n",
       "      <td>NaN</td>\n",
       "      <td>NaN</td>\n",
       "      <td>0</td>\n",
       "      <td>1245153415887372288</td>\n",
       "      <td>NaN</td>\n",
       "      <td>NaN</td>\n",
       "      <td>NaN</td>\n",
       "      <td>...</td>\n",
       "      <td>175</td>\n",
       "      <td>119</td>\n",
       "      <td>2</td>\n",
       "      <td>NaN</td>\n",
       "      <td>D🇵🇭</td>\n",
       "      <td>xoDonnellexo</td>\n",
       "      <td>12800</td>\n",
       "      <td>NaN</td>\n",
       "      <td>NaN</td>\n",
       "      <td>False</td>\n",
       "    </tr>\n",
       "    <tr>\n",
       "      <th>41862</th>\n",
       "      <td>NaN</td>\n",
       "      <td>Wed Apr 01 00:58:02 +0000 2020</td>\n",
       "      <td>COVIDIOT FakeNews</td>\n",
       "      <td>https://twitter.com/SJPFISH/status/12447694866...</td>\n",
       "      <td>NaN</td>\n",
       "      <td>0</td>\n",
       "      <td>1245153415543611395</td>\n",
       "      <td>NaN</td>\n",
       "      <td>NaN</td>\n",
       "      <td>NaN</td>\n",
       "      <td>...</td>\n",
       "      <td>79780</td>\n",
       "      <td>51313</td>\n",
       "      <td>52</td>\n",
       "      <td>Baton Rouge, LA</td>\n",
       "      <td>𝑪𝒂𝒋𝒖𝒏♡𝑪𝒉𝒊𝒄𝒌™️🌷</td>\n",
       "      <td>cajun4trump</td>\n",
       "      <td>263777</td>\n",
       "      <td>NaN</td>\n",
       "      <td>NaN</td>\n",
       "      <td>False</td>\n",
       "    </tr>\n",
       "    <tr>\n",
       "      <th>41863</th>\n",
       "      <td>NaN</td>\n",
       "      <td>Wed Apr 01 00:58:02 +0000 2020</td>\n",
       "      <td>NaN</td>\n",
       "      <td>NaN</td>\n",
       "      <td>NaN</td>\n",
       "      <td>0</td>\n",
       "      <td>1245153415530975239</td>\n",
       "      <td>NaN</td>\n",
       "      <td>NaN</td>\n",
       "      <td>NaN</td>\n",
       "      <td>...</td>\n",
       "      <td>16579</td>\n",
       "      <td>10437</td>\n",
       "      <td>2</td>\n",
       "      <td>United States</td>\n",
       "      <td>🇺🇸🇮🇪Sassysoutherne3 🇮🇪🇺🇸</td>\n",
       "      <td>Sassysoutherne3</td>\n",
       "      <td>51690</td>\n",
       "      <td>NaN</td>\n",
       "      <td>NaN</td>\n",
       "      <td>False</td>\n",
       "    </tr>\n",
       "    <tr>\n",
       "      <th>41866</th>\n",
       "      <td>NaN</td>\n",
       "      <td>Wed Apr 01 00:57:58 +0000 2020</td>\n",
       "      <td>NaN</td>\n",
       "      <td>NaN</td>\n",
       "      <td>NaN</td>\n",
       "      <td>0</td>\n",
       "      <td>1245153399391358977</td>\n",
       "      <td>NaN</td>\n",
       "      <td>NaN</td>\n",
       "      <td>NaN</td>\n",
       "      <td>...</td>\n",
       "      <td>9508</td>\n",
       "      <td>8933</td>\n",
       "      <td>163</td>\n",
       "      <td>England, United Kingdom</td>\n",
       "      <td>Chris P Bacon</td>\n",
       "      <td>gitson_shiggles</td>\n",
       "      <td>214475</td>\n",
       "      <td>NaN</td>\n",
       "      <td>https://twitter.com/search/from:@gitson_shiggles</td>\n",
       "      <td>False</td>\n",
       "    </tr>\n",
       "  </tbody>\n",
       "</table>\n",
       "<p>27665 rows × 34 columns</p>\n",
       "</div>"
      ],
      "text/plain": [
       "      coordinates                      created_at           hashtags  \\\n",
       "1             NaN  Wed Apr 01 00:08:49 +0000 2020           Gravitas   \n",
       "2             NaN  Wed Apr 01 00:08:48 +0000 2020                NaN   \n",
       "3             NaN  Wed Apr 01 00:08:49 +0000 2020           lockdown   \n",
       "4             NaN  Wed Apr 01 00:08:49 +0000 2020                NaN   \n",
       "5             NaN  Wed Apr 01 00:08:49 +0000 2020                NaN   \n",
       "...           ...                             ...                ...   \n",
       "41855         NaN  Wed Apr 01 00:58:02 +0000 2020                NaN   \n",
       "41857         NaN  Wed Apr 01 00:58:02 +0000 2020                NaN   \n",
       "41862         NaN  Wed Apr 01 00:58:02 +0000 2020  COVIDIOT FakeNews   \n",
       "41863         NaN  Wed Apr 01 00:58:02 +0000 2020                NaN   \n",
       "41866         NaN  Wed Apr 01 00:57:58 +0000 2020                NaN   \n",
       "\n",
       "                                                   media  \\\n",
       "1                                                    NaN   \n",
       "2                                                    NaN   \n",
       "3                                                    NaN   \n",
       "4                                                    NaN   \n",
       "5                                                    NaN   \n",
       "...                                                  ...   \n",
       "41855                                                NaN   \n",
       "41857                                                NaN   \n",
       "41862  https://twitter.com/SJPFISH/status/12447694866...   \n",
       "41863                                                NaN   \n",
       "41866                                                NaN   \n",
       "\n",
       "                                                    urls  favorite_count  \\\n",
       "1                                                    NaN               0   \n",
       "2      https://dailycaller.com/2020/03/31/world-healt...               0   \n",
       "3                                                    NaN               0   \n",
       "4                                https://trib.al/28Et2dM               0   \n",
       "5                                                    NaN               0   \n",
       "...                                                  ...             ...   \n",
       "41855                                                NaN               0   \n",
       "41857                                                NaN               0   \n",
       "41862                                                NaN               0   \n",
       "41863                                                NaN               0   \n",
       "41866                                                NaN               0   \n",
       "\n",
       "                        id in_reply_to_screen_name  in_reply_to_status_id  \\\n",
       "1      1245141030132826112                     NaN                    NaN   \n",
       "2      1245141025439354880                     NaN                    NaN   \n",
       "3      1245141029784780802                     NaN                    NaN   \n",
       "4      1245141030522896384                     NaN                    NaN   \n",
       "5      1245141029650452481                     NaN                    NaN   \n",
       "...                    ...                     ...                    ...   \n",
       "41855  1245153415346323456                     NaN                    NaN   \n",
       "41857  1245153415887372288                     NaN                    NaN   \n",
       "41862  1245153415543611395                     NaN                    NaN   \n",
       "41863  1245153415530975239                     NaN                    NaN   \n",
       "41866  1245153399391358977                     NaN                    NaN   \n",
       "\n",
       "       in_reply_to_user_id  ... user_followers_count user_friends_count  \\\n",
       "1                      NaN  ...                   67                377   \n",
       "2                      NaN  ...                   14                150   \n",
       "3                      NaN  ...                  193                432   \n",
       "4                      NaN  ...                 1396               1288   \n",
       "5                      NaN  ...                  247                454   \n",
       "...                    ...  ...                  ...                ...   \n",
       "41855                  NaN  ...                  282                437   \n",
       "41857                  NaN  ...                  175                119   \n",
       "41862                  NaN  ...                79780              51313   \n",
       "41863                  NaN  ...                16579              10437   \n",
       "41866                  NaN  ...                 9508               8933   \n",
       "\n",
       "      user_listed_count                user_location  \\\n",
       "1                     1               Dharwad, India   \n",
       "2                     0                   Inland NW    \n",
       "3                     0                         Kano   \n",
       "4                     1                          NaN   \n",
       "5                    10  ☀Kingston ✈ATL-Twitterverse   \n",
       "...                 ...                          ...   \n",
       "41855                 0                          NaN   \n",
       "41857                 2                          NaN   \n",
       "41862                52              Baton Rouge, LA   \n",
       "41863                 2                United States   \n",
       "41866               163      England, United Kingdom   \n",
       "\n",
       "                      user_name user_screen_name.1 user_statuses_count  \\\n",
       "1                       avinash      avinashbetdur                2389   \n",
       "2                     Ron Bleam        RonaldBleam                8135   \n",
       "3               fLufferNutteR😘🤩           Maryermu                 582   \n",
       "4                      HK lover    Hongkon27195888               17238   \n",
       "5                        D_Anne         Giselle_JA               22175   \n",
       "...                         ...                ...                 ...   \n",
       "41855                   Shawn-C      SChristie1965                7841   \n",
       "41857                       D🇵🇭       xoDonnellexo               12800   \n",
       "41862            𝑪𝒂𝒋𝒖𝒏♡𝑪𝒉𝒊𝒄𝒌™️🌷        cajun4trump              263777   \n",
       "41863  🇺🇸🇮🇪Sassysoutherne3 🇮🇪🇺🇸    Sassysoutherne3               51690   \n",
       "41866             Chris P Bacon    gitson_shiggles              214475   \n",
       "\n",
       "      user_time_zone                                         user_urls  \\\n",
       "1                NaN                                               NaN   \n",
       "2                NaN                                               NaN   \n",
       "3                NaN                                               NaN   \n",
       "4                NaN                                               NaN   \n",
       "5                NaN                                               NaN   \n",
       "...              ...                                               ...   \n",
       "41855            NaN                                               NaN   \n",
       "41857            NaN                                               NaN   \n",
       "41862            NaN                                               NaN   \n",
       "41863            NaN                                               NaN   \n",
       "41866            NaN  https://twitter.com/search/from:@gitson_shiggles   \n",
       "\n",
       "      user_verified  \n",
       "1             False  \n",
       "2             False  \n",
       "3             False  \n",
       "4             False  \n",
       "5             False  \n",
       "...             ...  \n",
       "41855         False  \n",
       "41857         False  \n",
       "41862         False  \n",
       "41863         False  \n",
       "41866         False  \n",
       "\n",
       "[27665 rows x 34 columns]"
      ]
     },
     "execution_count": 2,
     "metadata": {},
     "output_type": "execute_result"
    }
   ],
   "source": [
    "data = data.loc[data[\"lang\"] == \"en\"]\n",
    "data"
   ]
  },
  {
   "cell_type": "code",
   "execution_count": 3,
   "metadata": {
    "scrolled": true
   },
   "outputs": [],
   "source": [
    "genderData = pd.read_csv(\"gender-classifier-DFE-791531.csv\",usecols=['gender', 'gender:confidence','description', 'text'], encoding='utf-8')\n",
    "genderData['gender'] = genderData['gender'].astype(str)"
   ]
  },
  {
   "cell_type": "code",
   "execution_count": 4,
   "metadata": {},
   "outputs": [],
   "source": [
    "import gensim\n",
    "from gensim.utils import simple_preprocess\n",
    "from gensim.parsing.preprocessing import STOPWORDS\n",
    "from nltk.stem import WordNetLemmatizer, SnowballStemmer\n",
    "from nltk.stem.porter import *\n",
    "from nltk.tokenize.treebank import TreebankWordDetokenizer\n",
    "\n",
    "stemmer = SnowballStemmer(\"english\")\n",
    "def lemmatize_stemming(text):\n",
    "    return stemmer.stem(WordNetLemmatizer().lemmatize(text, pos='v'))\n",
    "\n",
    "def lemm(s):\n",
    "    s = str(s)\n",
    "    result = ''\n",
    "    s = s.lower()    \n",
    "    for token in gensim.utils.simple_preprocess(s):\n",
    "        if token not in gensim.parsing.preprocessing.STOPWORDS and len(token) > 3:\n",
    "            result += ' ' + (lemmatize_stemming(token))\n",
    "    return result\n",
    "\n",
    "def normalize_text(s):\n",
    "    s = str(s)\n",
    "    s = s.lower()    \n",
    "    # remove punctuation that is not word-internal (e.g., hyphens, apostrophes)\n",
    "    s = re.sub('\\s\\W',' ',s)\n",
    "    s = re.sub('\\W\\s',' ',s)\n",
    "    \n",
    "    # make sure we didn't introduce any double spaces\n",
    "    s = re.sub('\\s+',' ',s)\n",
    "    return s\n",
    "\n",
    "def tweet_token(s):\n",
    "    s = str(s)\n",
    "    replaced_urls = []  # Create an empty list\n",
    "    replaced_mentions = []  # Create an empty list\n",
    "    space = ' '\n",
    "    tknzr = TweetTokenizer(strip_handles=True)\n",
    "    tokens = tknzr.tokenize(s)\n",
    "    tokens = [s for s in tokens if s.isascii()]\n",
    "    return space.join(tokens)"
   ]
  },
  {
   "cell_type": "code",
   "execution_count": 5,
   "metadata": {},
   "outputs": [],
   "source": [
    "# genderData['text_norm'] = [normalize_text(s) for s in genderData['text']]\n",
    "# genderData['desc_norm'] = [normalize_text(s) for s in genderData['description']]\n",
    "genderData['text_norm'] = [tweet_token(s) for s in genderData['text']]\n",
    "genderData['desc_norm'] = [tweet_token(s) for s in genderData['description']]\n",
    "genderData['descAndText'] = genderData['text_norm'] + genderData['desc_norm']\n",
    "# genderData['descAndText'] = genderData['text_norm'].str.cat(genderData['desc_norm'], sep=' ')"
   ]
  },
  {
   "cell_type": "code",
   "execution_count": 6,
   "metadata": {},
   "outputs": [],
   "source": [
    "useableGenderData = genderData[genderData['gender:confidence']==1]\n",
    "useableGenderData = useableGenderData.drop(useableGenderData[useableGenderData.gender=='unknown'].index)\n",
    "# useableGenderData = useableGenderData.drop(useableGenderData[useableGenderData.gender=='brand'].index)\n",
    "# isMale = useableGenderData['gender'] == 'male'\n",
    "# isFemale = useableGenderData['gender'] == 'female'\n",
    "# useableGenderData = useableGenderData[isMale | isFemale]"
   ]
  },
  {
   "cell_type": "code",
   "execution_count": 7,
   "metadata": {},
   "outputs": [
    {
     "name": "stdout",
     "output_type": "stream",
     "text": [
      "female    0.388800\n",
      "male      0.337076\n",
      "brand     0.274123\n",
      "Name: gender, dtype: float64\n"
     ]
    },
    {
     "data": {
      "text/plain": [
       "(13804, 7)"
      ]
     },
     "execution_count": 7,
     "metadata": {},
     "output_type": "execute_result"
    }
   ],
   "source": [
    "print(useableGenderData['gender'].value_counts()/sum(useableGenderData['gender'].value_counts()))\n",
    "useableGenderData.shape"
   ]
  },
  {
   "cell_type": "code",
   "execution_count": 8,
   "metadata": {},
   "outputs": [],
   "source": [
    "vectorizer = TfidfVectorizer(min_df=3)\n",
    "x = vectorizer.fit_transform(useableGenderData['descAndText'])\n",
    "encoder = LabelEncoder()\n",
    "y = encoder.fit_transform(useableGenderData['gender'])"
   ]
  },
  {
   "cell_type": "code",
   "execution_count": 9,
   "metadata": {},
   "outputs": [],
   "source": [
    "x_train, x_test, y_train, y_test = train_test_split(x, y, test_size=0.1, stratify=y, random_state = 4)"
   ]
  },
  {
   "cell_type": "code",
   "execution_count": 10,
   "metadata": {},
   "outputs": [],
   "source": [
    "def eval_accuracy(model):\n",
    "    model.fit(x_train, y_train)\n",
    "    return model.score(x_test, y_test)\n",
    "\n",
    "def pred_gender(model, tweetData, trainX, trainY):\n",
    "    model.fit(trainX, trainY)\n",
    "    return model.predict(tweetData)"
   ]
  },
  {
   "cell_type": "code",
   "execution_count": 11,
   "metadata": {},
   "outputs": [],
   "source": [
    "models = [LogisticRegression(max_iter=1000),\n",
    "          MultinomialNB(),\n",
    "          RandomForestClassifier(n_estimators=100),\n",
    "          KNeighborsClassifier(),\n",
    "          SVC(),\n",
    "          GradientBoostingClassifier(n_estimators=100, learning_rate=1.0, max_depth=1, random_state=0),\n",
    "          MLPClassifier(hidden_layer_sizes=(100,), learning_rate='adaptive'),\n",
    "          SGDClassifier(loss=\"hinge\", penalty=\"l2\", max_iter=1000),\n",
    "          LinearSVC(random_state=42)\n",
    "         ]"
   ]
  },
  {
   "cell_type": "code",
   "execution_count": 12,
   "metadata": {},
   "outputs": [
    {
     "data": {
      "text/plain": [
       "<matplotlib.axes._subplots.AxesSubplot at 0x7fa25f300fd0>"
      ]
     },
     "execution_count": 12,
     "metadata": {},
     "output_type": "execute_result"
    },
    {
     "data": {
      "image/png": "[encoded data removed]",
      "text/plain": [
       "<Figure size 432x288 with 1 Axes>"
      ]
     },
     "metadata": {
      "needs_background": "light"
     },
     "output_type": "display_data"
    }
   ],
   "source": [
    "results = pd.Series([eval_accuracy(model) for model in models],\n",
    "                    index = [\"logit\", 'nb', \"rf\", \"knn\", \"svc\", 'gbc', 'mlp', 'sgd','lsvc'])\n",
    "results.plot(kind = \"barh\", title=\"Accuracy by Model\")"
   ]
  },
  {
   "cell_type": "code",
   "execution_count": 13,
   "metadata": {},
   "outputs": [
    {
     "data": {
      "text/plain": [
       "LogisticRegression(C=1.0, class_weight=None, dual=False, fit_intercept=True,\n",
       "                   intercept_scaling=1, l1_ratio=None, max_iter=1000,\n",
       "                   multi_class='auto', n_jobs=None, penalty='l2',\n",
       "                   random_state=None, solver='lbfgs', tol=0.0001, verbose=0,\n",
       "                   warm_start=False)"
      ]
     },
     "execution_count": 13,
     "metadata": {},
     "output_type": "execute_result"
    }
   ],
   "source": [
    "model = LogisticRegression(max_iter=1000)\n",
    "model.fit(x, y)"
   ]
  },
  {
   "cell_type": "code",
   "execution_count": 14,
   "metadata": {},
   "outputs": [
    {
     "data": {
      "text/plain": [
       "<matplotlib.axes._subplots.AxesSubplot at 0x7fa25a359d10>"
      ]
     },
     "execution_count": 14,
     "metadata": {},
     "output_type": "execute_result"
    },
    {
     "data": {
      "image/png": "[encoded data removed]",
      "text/plain": [
       "<Figure size 432x288 with 1 Axes>"
      ]
     },
     "metadata": {
      "needs_background": "light"
     },
     "output_type": "display_data"
    }
   ],
   "source": [
    "coeffs_male = pd.Series(model.coef_[2], index = vectorizer.get_feature_names())\n",
    "coeffs_male.sort_values(ascending=False)[:10].plot.barh()"
   ]
  },
  {
   "cell_type": "code",
   "execution_count": 15,
   "metadata": {},
   "outputs": [
    {
     "data": {
      "text/plain": [
       "<matplotlib.axes._subplots.AxesSubplot at 0x7fa25a4b1dd0>"
      ]
     },
     "execution_count": 15,
     "metadata": {},
     "output_type": "execute_result"
    },
    {
     "data": {
      "image/png": "[encoded data removed]",
      "text/plain": [
       "<Figure size 432x288 with 1 Axes>"
      ]
     },
     "metadata": {
      "needs_background": "light"
     },
     "output_type": "display_data"
    }
   ],
   "source": [
    "coeffs_female = pd.Series(model.coef_[1], index = vectorizer.get_feature_names())\n",
    "coeffs_female.sort_values(ascending=False).head(10).plot.barh()"
   ]
  },
  {
   "cell_type": "code",
   "execution_count": 16,
   "metadata": {},
   "outputs": [],
   "source": [
    "data['cleanedText'] = [tweet_token(s) for s in data['text']]\n",
    "dataTweets = vectorizer.transform(data['cleanedText'])\n",
    "\n",
    "models = [LogisticRegression(max_iter=1000),\n",
    "          SGDClassifier(loss=\"hinge\", penalty=\"l2\", max_iter=1000),\n",
    "          LinearSVC(random_state=42)\n",
    "         ]\n",
    "results = pd.Series([pred_gender(model, dataTweets, x, y) for model in models],\n",
    "                    index = [\"logit\", 'sgd','lsvc'])"
   ]
  },
  {
   "cell_type": "code",
   "execution_count": 17,
   "metadata": {},
   "outputs": [
    {
     "name": "stdout",
     "output_type": "stream",
     "text": [
      "['brand' 'female' 'male']\n"
     ]
    },
    {
     "data": {
      "text/plain": [
       "logit    [1, 2, 1, 1, 1, 2, 0, 1, 2, 1, 2, 2, 0, 2, 0, ...\n",
       "sgd      [1, 0, 1, 1, 1, 2, 0, 1, 0, 1, 2, 2, 0, 2, 1, ...\n",
       "lsvc     [1, 1, 1, 1, 1, 2, 0, 2, 0, 1, 2, 2, 0, 2, 1, ...\n",
       "dtype: object"
      ]
     },
     "execution_count": 17,
     "metadata": {},
     "output_type": "execute_result"
    }
   ],
   "source": [
    "print(encoder.classes_)\n",
    "results"
   ]
  },
  {
   "cell_type": "code",
   "execution_count": 19,
   "metadata": {},
   "outputs": [],
   "source": [
    "def tweet_token(s):\n",
    "    s = str(s)\n",
    "    replaced_urls = []  # Create an empty list\n",
    "    replaced_mentions = []  # Create an empty list\n",
    "    space = ' '\n",
    "    tknzr = TweetTokenizer()\n",
    "    tokens = tknzr.tokenize(s)\n",
    "    tokens = [s for s in tokens if s.isascii()]\n",
    "    for index, token in enumerate(tokens):\n",
    "        # Replace URLs\n",
    "        if token[0:8] == \"https://\":\n",
    "            replaced_urls.append(token)\n",
    "            tokens[index] = \"<URLURL>\"\n",
    "            # ↳ *tokens[index]* will directly modify *tokens*, whereas any changes to *token* will be lost.\n",
    "\n",
    "        # Replace mentions (Twitter handles; usernames)\n",
    "        elif token[0] == \"@\" and len(token) > 1:\n",
    "            # ↳ Skip the single '@' tokens\n",
    "            replaced_mentions.append(token)\n",
    "            tokens[index] = \"<UsernameMention>\"\n",
    "    detokenizer = TreebankWordDetokenizer()\n",
    "    processed_tweet = detokenizer.detokenize(tokens)\n",
    "    return processed_tweet\n",
    "    return space.join(tokens)"
   ]
  },
  {
   "cell_type": "code",
   "execution_count": 20,
   "metadata": {},
   "outputs": [],
   "source": [
    "genderData = pd.read_csv(\"gender-classifier-DFE-791531.csv\",usecols=['gender', 'gender:confidence','description', 'text'], encoding='utf-8')\n",
    "genderData['gender'] = genderData['gender'].astype(str)\n",
    "genderData['descAndText'] = genderData['text'] + genderData['description']\n",
    "genderData['gender'] = genderData['gender'].values.astype('U')\n",
    "genderData['descAndText'] = genderData['descAndText'].values.astype('U')\n",
    "useableGenderData = genderData[genderData['gender:confidence']==1]\n",
    "useableGenderData = useableGenderData.drop(useableGenderData[useableGenderData.gender=='unknown'].index)"
   ]
  },
  {
   "cell_type": "code",
   "execution_count": 21,
   "metadata": {},
   "outputs": [],
   "source": [
    "tweetTrain, tweetTest, genderTrain, genderTest = train_test_split(useableGenderData['descAndText'], useableGenderData['gender'], test_size=0.1, stratify=useableGenderData['gender'], random_state = 4)"
   ]
  },
  {
   "cell_type": "code",
   "execution_count": 22,
   "metadata": {},
   "outputs": [],
   "source": [
    "word_vectorizer = TfidfVectorizer(preprocessor=tweet_token,\n",
    "                                  analyzer='word', ngram_range=(1,3),\n",
    "                                  min_df=2, use_idf=True, sublinear_tf=True)\n",
    "char_vectorizer = TfidfVectorizer(preprocessor=tweet_token,\n",
    "                                 analyzer='char', ngram_range=(3, 5),\n",
    "                                 min_df=2, use_idf=True, sublinear_tf=True)\n",
    "ngrams_vectorizer = Pipeline([('feats', FeatureUnion([('word_ngram', word_vectorizer),\n",
    "                                                     ('char_ngram', char_vectorizer),\n",
    "                                                     ]))\n",
    "                             ])\n",
    "X_train_ngrams_tfidf = ngrams_vectorizer.fit_transform(tweetTrain)\n",
    "feature_names_ngrams = [word_vectorizer.vocabulary_, char_vectorizer.vocabulary_]\n",
    "X_test_ngrams_tfidf = ngrams_vectorizer.transform(tweetTest)\n",
    "svd = TruncatedSVD(n_components=300, random_state=43)\n",
    "X_train_ngrams_tfidf_reduced = svd.fit_transform(X_train_ngrams_tfidf)    \n",
    "X_test_ngrams_tfidf_reduced = svd.transform(X_test_ngrams_tfidf)\n",
    "x_train = X_train_ngrams_tfidf_reduced\n",
    "x_test = X_test_ngrams_tfidf_reduced\n",
    "clf = LinearSVC(random_state=42)"
   ]
  },
  {
   "cell_type": "code",
   "execution_count": 23,
   "metadata": {},
   "outputs": [
    {
     "data": {
      "text/plain": [
       "0.6227371469949312"
      ]
     },
     "execution_count": 23,
     "metadata": {},
     "output_type": "execute_result"
    }
   ],
   "source": [
    "clf.fit(x_train, genderTrain)\n",
    "clf.score(x_test,genderTest)"
   ]
  },
  {
   "cell_type": "code",
   "execution_count": 25,
   "metadata": {},
   "outputs": [],
   "source": [
    "X_train_ngrams_tfidf = ngrams_vectorizer.fit_transform(useableGenderData['descAndText'])\n",
    "feature_names_ngrams = [word_vectorizer.vocabulary_, char_vectorizer.vocabulary_]\n",
    "X_test_ngrams_tfidf = ngrams_vectorizer.transform(data['text'])\n",
    "svd = TruncatedSVD(n_components=300, random_state=43)\n",
    "X_train_ngrams_tfidf_reduced = svd.fit_transform(X_train_ngrams_tfidf)    \n",
    "X_test_ngrams_tfidf_reduced = svd.transform(X_test_ngrams_tfidf)\n",
    "x_train = X_train_ngrams_tfidf_reduced\n",
    "x_test = X_test_ngrams_tfidf_reduced"
   ]
  },
  {
   "cell_type": "code",
   "execution_count": 26,
   "metadata": {},
   "outputs": [],
   "source": [
    "models = [LogisticRegression(max_iter=1000),\n",
    "          SGDClassifier(loss=\"hinge\", penalty=\"l2\", max_iter=1000),\n",
    "          LinearSVC(random_state=42)\n",
    "         ]\n",
    "results = pd.Series([pred_gender(model, x_test, x_train, useableGenderData['gender']) for model in models],\n",
    "                    index = [\"logit\", 'sgd','lsvc'])"
   ]
  },
  {
   "cell_type": "code",
   "execution_count": 27,
   "metadata": {},
   "outputs": [
    {
     "data": {
      "text/plain": [
       "logit    [male, male, female, male, male, female, male,...\n",
       "sgd      [male, male, female, male, male, male, male, m...\n",
       "lsvc     [male, male, female, male, male, female, male,...\n",
       "dtype: object"
      ]
     },
     "execution_count": 27,
     "metadata": {},
     "output_type": "execute_result"
    }
   ],
   "source": [
    "results"
   ]
  },
  {
   "cell_type": "code",
   "execution_count": null,
   "metadata": {},
   "outputs": [],
   "source": []
  }
 ],
 "metadata": {
  "kernelspec": {
   "display_name": "Python 3",
   "language": "python",
   "name": "python3"
  },
  "language_info": {
   "codemirror_mode": {
    "name": "ipython",
    "version": 3
   },
   "file_extension": ".py",
   "mimetype": "text/x-python",
   "name": "python",
   "nbconvert_exporter": "python",
   "pygments_lexer": "ipython3",
   "version": "3.7.6"
  }
 },
 "nbformat": 4,
 "nbformat_minor": 4
}
